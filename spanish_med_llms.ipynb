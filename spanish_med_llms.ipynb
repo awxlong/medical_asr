{
 "cells": [
  {
   "cell_type": "code",
   "execution_count": null,
   "metadata": {},
   "outputs": [],
   "source": [
    "from llama_cpp import Llama"
   ]
  },
  {
   "cell_type": "markdown",
   "metadata": {},
   "source": [
    "# Apollo-7b cuantizado para menor consumo de recursos\n",
    "\n",
    "Descargar Apollo-7b en https://huggingface.co/itlwas/Apollo-7B-Q4_K_M-GGUF"
   ]
  },
  {
   "cell_type": "code",
   "execution_count": null,
   "metadata": {},
   "outputs": [],
   "source": [
    "# Configurar el modelo Apollo (modelo cuantizado)\n",
    "# Asegúrate de que 'model_path' apunte al archivo descargado, por ejemplo:\n",
    "apollo_model_path = \"/Users/awxlong/Library/Caches/llama.cpp/itlwas_Apollo-7B-Q4_K_M-GGUF_apollo-7b-q4_k_m.gguf\" # https://huggingface.co/itlwas/Apollo-7B-Q4_K_M-GGUF/resolve/main/apollo-7b-q4_k_m.gguf\n",
    "apollo_model = Llama(\n",
    "    model_path=apollo_model_path,\n",
    "    n_ctx=2048,          # Ajusta según sea necesario\n",
    "    n_threads=4,         # Número de hilos (ajusta según tu CPU)\n",
    "    seed=0\n",
    ")"
   ]
  },
  {
   "cell_type": "code",
   "execution_count": null,
   "metadata": {},
   "outputs": [],
   "source": [
    "def improve_transcription(transcript: str) -> str:\n",
    "    \"\"\"\n",
    "    Usa el modelo Apollo para mejorar la transcripción.\n",
    "    Se envía un prompt en español que le indica al modelo:\n",
    "      - Identificar cambios de interlocutor.\n",
    "      - Corregir errores médicos.\n",
    "    \"\"\"\n",
    "    prompt = (\n",
    "        \"Mejora la siguiente transcripción de una conversación médico-paciente. \"\n",
    "        \"Identifica los cambios de interlocutor y corrige errores, especialmente en \"\n",
    "        \"terminología médica. Devuelve el resultado en un formato estructurado con \"\n",
    "        \"etiquetas claras (por ejemplo, Doctor:, Paciente:).\\n\\n\"\n",
    "        f\"Transcripción: {transcript}\\n\\nRespuesta:\"\n",
    "    )\n",
    "    \n",
    "    # Generar respuesta usando el modelo Apollo\n",
    "    output = apollo_model(\n",
    "        prompt,\n",
    "        max_tokens=1024,      # Ajusta según la longitud necesaria\n",
    "        temperature=0.3,      # Menor temperatura para respuestas más deterministas\n",
    "        top_p=0.95,\n",
    "    )\n",
    "    # El output es un diccionario con la clave \"choices\"\n",
    "    # improved = output[\"choices\"][0][\"text\"].strip()\n",
    "    return output"
   ]
  },
  {
   "cell_type": "code",
   "execution_count": null,
   "metadata": {},
   "outputs": [],
   "source": [
    "transcript_inicial = \"Paciente tu race. Paciente tu race. Gracias doctor. Buenos días. Gracias. Cuénteme, en qué la puedo ayudar. Bueno, desde hace unos días tengo una molestia de aquí, en las zonas de abajo y me arden, sobre todo cuando voy al baño. Y desde cuando ha sentido eso? Hace tres días más o menos. Empezó con una pequeña molestia, luego empeoró y me arden, sobre todo cuando orino. Es una molestia de todo el día. Y ha sentido notar alguna otra cosa, ¿partidí ahí? Bueno, sí, algo de olor fuerte. Me hice unos exámenes por mi casa. Claro. Ya veo. Estos exámenes indican que tiene una infección. Y por lo que me cuenta, dolor, ardor, el descenso, y unirí que tiene una infección o inárea. Pero no se preocupe. Ese tipo de infecciones son muy cómulos en mujeres de su edad. Y por lo que me encuentran, no lo lo he hecho, no lo he hecho. Pero no se preocupe. Ese tipo de infecciones son muy cómulos en mujeres de su edad. Afortunadamente el tratamiento es efectivo y rápido. ¿Y qué tengo que hacer es muy complicado? No, no es complicado. Primero le voy a pedir que sea un cultivo de orina. Eso es un análisis. Luego de hacerse el cultivo va a tomar un antibiótico en pastilla que se llaman nitrofurantoina. Cada seis horas durante siete días. De preferencia con cada comida. Cuando les den los resultados del análisis regresa y de acuerdo los resultados y como está, vemos si es necesario seguir con el tratamiento o cambiarle antibiótico. ¿Quién tiene alguna otra pregunta? El cultivo me la tengo que hacer ahora. Sí. Lo importante es que primero sea el cultivo y después comiense con los antibióticos. Si no va el cultivo no va a ser el correcto. Primero el cultivo y luego el antibiótico. ¿Y de comer normal o alguna dieta? De comer normal puede comer todo. Pero eso sí. Evite el alcohol y evite tener relaciones. Y me lavo con algo especial para que pueda ayudar. No. Usted va ni a ser como siempre. No se ha galabado especial y ni se ha hecho nada. Con el antibiótico es que va a ser suficiente. Pero eso sí. Tiene que seguir el tratamiento completo y no dejarlo porque se siente que ya pasó de malestar. Completo el tratamiento. Los siete días. Eso bien. Apide la letra. Entonces ese cultivo de orina. Luego de hacerse el cultivo comienza con las pastillas que lindiqué. Cada seis horas durante siete días. No va a tomar alcohol ni tener relaciones y no se va a hacer ninguno de lavados especial. Y esas cosas. Con las pastillas es suficiente. ¿Tiene alguna otra pregunta? No lo so. Creo que quedo claro. Con las seis horas por siete días. Nada de lavado, nada de relaciones y nada de lires. Y cuando se los resultados regrese por haber como sigue todo. Y doctor. Ahí está su receta y su análisis. Apide la letra. Que tenga buen día. Gracias. Gracias. Gracias. Paciente Jiménez. Paciente Jiménez.\""
   ]
  },
  {
   "cell_type": "code",
   "execution_count": null,
   "metadata": {},
   "outputs": [],
   "source": [
    "transcript_final = improve_transcription(transcript_inicial)"
   ]
  },
  {
   "cell_type": "code",
   "execution_count": null,
   "metadata": {},
   "outputs": [],
   "source": [
    "transcript_final['choices'][0]['text'].strip()"
   ]
  }
 ],
 "metadata": {
  "kernelspec": {
   "display_name": "gamma",
   "language": "python",
   "name": "python3"
  },
  "language_info": {
   "codemirror_mode": {
    "name": "ipython",
    "version": 3
   },
   "file_extension": ".py",
   "mimetype": "text/x-python",
   "name": "python",
   "nbconvert_exporter": "python",
   "pygments_lexer": "ipython3",
   "version": "3.9.18"
  }
 },
 "nbformat": 4,
 "nbformat_minor": 2
}
